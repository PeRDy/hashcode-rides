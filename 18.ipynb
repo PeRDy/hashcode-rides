{
 "cells": [
  {
   "cell_type": "code",
   "execution_count": 1,
   "metadata": {},
   "outputs": [],
   "source": [
    "import multiprocessing\n",
    "import random\n",
    "from collections import defaultdict, OrderedDict\n",
    "from pprint import pformat\n",
    "from typing import Dict, List, Tuple\n",
    "\n",
    "import matplotlib.pyplot as plt\n",
    "import numpy as np\n",
    "from deap import algorithms, base, creator, tools\n",
    "\n",
    "%matplotlib notebook"
   ]
  },
  {
   "cell_type": "markdown",
   "metadata": {},
   "source": [
    "## Problem and Solution Definitions"
   ]
  },
  {
   "cell_type": "markdown",
   "metadata": {},
   "source": [
    "### Class that holds the problem definition.\n",
    "\n",
    "This class must implements:\n",
    "* A method to represent the problem graphically (`__str__`)\n",
    "* A method to generate a problem instance from an input file (`from_file`)."
   ]
  },
  {
   "cell_type": "code",
   "execution_count": 2,
   "metadata": {},
   "outputs": [],
   "source": [
    "class Problem:\n",
    "    def __init__(self, rows: int, cols: int, fleet: int, rides: List[List[int]], bonus: int, steps: int):\n",
    "        self.rows = rows\n",
    "        self.cols = cols\n",
    "        self.fleet = fleet\n",
    "        self.rides = rides\n",
    "        self.bonus = bonus\n",
    "        self.steps = steps\n",
    "\n",
    "    @staticmethod\n",
    "    def distance(a: int, b: int, x: int, y: int) -> int:\n",
    "        return abs(x - a) + abs(y - b)\n",
    "    \n",
    "    @classmethod\n",
    "    def ride_length(cls, ride: List[int]) -> int:\n",
    "        return cls.distance(*ride[0:4])\n",
    "    \n",
    "    @classmethod\n",
    "    def can_reach(cls, x: int, y: int, step: int, ride: List[int]) -> bool:\n",
    "        return cls.distance(x, y, ride[0], ride[1]) + step <= ride[5] - cls.ride_length(ride)\n",
    "    \n",
    "    @property\n",
    "    def max_bound(self):\n",
    "        if not hasattr(self, '_max_bound'):\n",
    "            self._max_bound = len(self.rides) * self.bonus \\\n",
    "                    + np.sum(np.apply_along_axis(lambda x: self.ride_length(x), 1, self.rides[:, 0:4]))\n",
    "        \n",
    "        return self._max_bound\n",
    "    \n",
    "    @property\n",
    "    def rides_by_starting(self) -> List[List[int]]:\n",
    "        return [k for k, ride in sorted(enumerate(self.rides), key=lambda x: x[1][4])]\n",
    "    \n",
    "    @classmethod\n",
    "    def from_file(cls, file_path, *args, **kwargs):\n",
    "        with open(file_path) as f:\n",
    "            rows, cols, fleet, num_rides, bonus, steps = [int(i) for i in f.readline().split()]\n",
    "            rides = np.array([[int(x) for x in line.strip().split()] for i, line in zip(range(num_rides), f.readlines())])\n",
    "\n",
    "        return cls(rows, cols, fleet, rides, bonus, steps)\n",
    "\n",
    "    def steps_for_rides(self, rides) -> int:\n",
    "        x, y = 0, 0\n",
    "        steps = 0\n",
    "        for ride in [self.rides[r] for r in rides]:\n",
    "            steps += max(ride[4], steps + problem.distance(x, y, ride[0], ride[1]))  # Move to ride start point\n",
    "            steps += problem.ride_length(ride)  # Move to ride end point\n",
    "            x, y = ride[2:4]\n",
    "            \n",
    "        return steps\n",
    "    \n",
    "    def is_car_valid(self, rides) -> bool:\n",
    "        x, y = 0, 0\n",
    "        step = 0\n",
    "        for ride_index in rides:\n",
    "            # Remove ride index\n",
    "            ride = self.rides[ride_index]\n",
    "\n",
    "            # Check if ride is valid\n",
    "            if not self.can_reach(x, y, step, ride):\n",
    "                return False\n",
    "\n",
    "            # Update iterative variables\n",
    "            step += max(ride[4], step + self.distance(x, y, ride[0], ride[1]))  # Move to ride start point\n",
    "            step += self.ride_length(ride)  # Move to ride end point\n",
    "            x, y = ride[2:4]\n",
    "\n",
    "        return True\n",
    "\n",
    "    def is_individual_valid(self, individual) -> bool:\n",
    "        rides = [r for i in individual.values() for r in i]\n",
    "        \n",
    "        if len(rides) > len(set(rides)):\n",
    "            return False\n",
    "        \n",
    "        for car, rides in individual.items():\n",
    "            if not self.is_car_valid(rides):\n",
    "                return False\n",
    "\n",
    "        return True\n",
    "    \n",
    "    def __str__(self):\n",
    "        return '\\n'.join([f'Ride(x={i[0], i[1]}, y={i[2], i[3]}, starting={i[4]}, finish={i[5]})' for i in self.rides])\n",
    "\n",
    "    def __repr__(self):\n",
    "        s = f'Problem{{rows={self.rows}, cols={self.cols}, fleet={self.fleet}, bonus={self.bonus}, steps={self.steps}}}'\n",
    "        if len(self.rides) < 20:\n",
    "            s += f'\\n{str(self)}'\n",
    "        return s"
   ]
  },
  {
   "cell_type": "markdown",
   "metadata": {},
   "source": [
    "### Problem instance"
   ]
  },
  {
   "cell_type": "code",
   "execution_count": 3,
   "metadata": {},
   "outputs": [
    {
     "data": {
      "text/plain": [
       "Problem{rows=10000, cols=10000, fleet=400, bonus=2, steps=50000}"
      ]
     },
     "execution_count": 3,
     "metadata": {},
     "output_type": "execute_result"
    }
   ],
   "source": [
    "#problem = Problem.from_file('input/a_example.in')\n",
    "problem = Problem.from_file('input/b_should_be_easy.in')\n",
    "#problem = Problem.from_file('input/c_no_hurry.in')\n",
    "#problem = Problem.from_file('input/d_metropolis.in')\n",
    "#problem = Problem.from_file('input/e_high_bonus.in')\n",
    "problem"
   ]
  },
  {
   "cell_type": "markdown",
   "metadata": {},
   "source": [
    "### Class that contains a Solution\n",
    "\n",
    "The solution to this problem will be represented by a class that can be written and represented, so that following methods must be implemented:\n",
    "* Serialize the solution into a string (`__str__`).\n",
    "* Create a string that represents the solution (`__repr__`).\n",
    "* Write to file the solution (`to_file`)."
   ]
  },
  {
   "cell_type": "code",
   "execution_count": 4,
   "metadata": {},
   "outputs": [],
   "source": [
    "class Solution:\n",
    "    \"\"\"\n",
    "    A solution for this problem that consists of a structure [[r1, r2, ..., rn]...]\n",
    "    \"\"\"\n",
    "    def __init__(self, data):\n",
    "        self.data = data\n",
    "\n",
    "    def to_file(self, file_path):\n",
    "        with open(file_path, 'w') as f:\n",
    "            f.write(self.__str__())\n",
    "\n",
    "    def __str__(self):\n",
    "        return '\\n'.join([' '.join([str(len(rides))] + [str(r) for r in rides]) for rides in self.data.values()])\n",
    "\n",
    "    def __repr__(self):\n",
    "        return self.__str__()"
   ]
  },
  {
   "cell_type": "markdown",
   "metadata": {},
   "source": [
    "## Genetic Algorithm's Operators\n",
    "\n",
    "In order to generate a population for the Genetic Algorithm it's necessary to define following constants:\n",
    "* `INDIVIDUAL_TYPE`: The base type for an individual.\n",
    "* `INDIVIDUAL_SIZE`: Initial size of the individual.\n",
    "\n",
    "Running the algorithm consists of generating and evaluating individuals, so it's required to define functions for:\n",
    "* Generating a new individual based on problem instance (`generate`).\n",
    "* Evaluating the current fitness value of the individual (`evaluate`).\n",
    "\n",
    "If it's necessary, following functions can be defined:\n",
    "* Mutate individuals (`mutate`).\n",
    "* Crossover (`crossover`)."
   ]
  },
  {
   "cell_type": "markdown",
   "metadata": {},
   "source": [
    "### Helpers"
   ]
  },
  {
   "cell_type": "code",
   "execution_count": 5,
   "metadata": {},
   "outputs": [],
   "source": [
    "def find_itinerary(car: int, problem: Problem, rides: List[int]) -> List[int]:\n",
    "    itinerary = []\n",
    "    step = 0\n",
    "    x, y = (0, 0)\n",
    "    try:\n",
    "        candidates = [i for i in rides if problem.can_reach(x, y, step, problem.rides[i])]\n",
    "        while len(candidates) and step <= problem.steps:\n",
    "            # Get a valid ride and remove it from rides pool\n",
    "            ride_index = random.choice(candidates)\n",
    "            candidates.remove(ride_index)\n",
    "            \n",
    "            # Add ride to itinerary\n",
    "            itinerary.append(ride_index)\n",
    "            ride = problem.rides[ride_index]\n",
    "            \n",
    "            # Update iterative variables\n",
    "            x, y = ride[2:4]\n",
    "            step += max(ride[4], step + problem.distance(x, y, ride[0], ride[1]))  # Move to ride start point\n",
    "            step += problem.ride_length(ride)  # Move to ride end point\n",
    "            candidates = [i for i in candidates if problem.can_reach(x, y, step, problem.rides[i])]\n",
    "    except StopIteration:\n",
    "        pass\n",
    "        \n",
    "    return itinerary"
   ]
  },
  {
   "cell_type": "markdown",
   "metadata": {},
   "source": [
    "### Constants"
   ]
  },
  {
   "cell_type": "code",
   "execution_count": 6,
   "metadata": {},
   "outputs": [],
   "source": [
    "INDIVIDUAL_TYPE = dict"
   ]
  },
  {
   "cell_type": "markdown",
   "metadata": {},
   "source": [
    "### Generation"
   ]
  },
  {
   "cell_type": "code",
   "execution_count": 7,
   "metadata": {},
   "outputs": [],
   "source": [
    "def generate(problem: Problem) -> Dict[int, List[int]]:\n",
    "    individual = OrderedDict({})\n",
    "    rides_completed = []\n",
    "    rides_available = problem.rides_by_starting\n",
    "    for c in range(problem.fleet):\n",
    "        rides_available = [i for i in rides_available if i not in rides_completed]\n",
    "        rides = find_itinerary(c, problem, rides_available)\n",
    "        individual[c] = rides\n",
    "        rides_completed += rides\n",
    "        \n",
    "    return creator.Individual(individual)\n",
    "\n",
    "\n",
    "def generate_population(n: int) -> List:\n",
    "    pool = multiprocessing.Pool()\n",
    "    tasks = [pool.apply_async(toolbox.individual) for _ in range(n)]\n",
    "    return [t.get() for t in tasks]\n",
    "    "
   ]
  },
  {
   "cell_type": "markdown",
   "metadata": {},
   "source": [
    "### Evaluation"
   ]
  },
  {
   "cell_type": "code",
   "execution_count": 8,
   "metadata": {},
   "outputs": [],
   "source": [
    "def evaluate(individual, problem: Problem) -> Tuple[float]:\n",
    "    if problem.is_individual_valid(individual):\n",
    "        rides = np.array([problem.rides[r] for car, rides in individual.items() for r in rides])\n",
    "        distances = np.sum(np.apply_along_axis(problem.ride_length, 1, rides))\n",
    "        bonus = 0\n",
    "        return float(distances + bonus),\n",
    "    else:\n",
    "        return 0.0,"
   ]
  },
  {
   "cell_type": "markdown",
   "metadata": {},
   "source": [
    "### Mutation"
   ]
  },
  {
   "cell_type": "code",
   "execution_count": 9,
   "metadata": {},
   "outputs": [],
   "source": [
    "def mutate(individual, problem) -> Tuple:\n",
    "    car = random.choice(list(individual.keys()))\n",
    "    ride_index = random.randint(0, len(individual[car])-1)\n",
    "    ride = individual[car][ride_index]\n",
    "    x, y = (0, 0) if ride_index == 0 else problem.rides[individual[car][ride_index-1]][2:4]\n",
    "    rides_taken = {i for ride in individual.values() for i in ride}\n",
    "    rides_available = [r for r in problem.rides_by_starting if r not in rides_taken and problem.can_reach(x, y, 0, problem.rides[r])]\n",
    "    \n",
    "    if rides_available:\n",
    "        individual[car][ride_index] = random.choice(rides_available)\n",
    "    else:\n",
    "        del individual[car][ride_index]\n",
    "        \n",
    "    return individual,"
   ]
  },
  {
   "cell_type": "markdown",
   "metadata": {},
   "source": [
    "### Crossover"
   ]
  },
  {
   "cell_type": "code",
   "execution_count": 10,
   "metadata": {},
   "outputs": [],
   "source": [
    "def crossover_by_starting(ind1, ind2, problem: Problem) -> Tuple:\n",
    "    for car in ind1:\n",
    "        size = min(len(ind1[car]), len(ind2[car]))\n",
    "        if size > 1:\n",
    "            cxpoint1 = random.randint(1, size-1)\n",
    "            ride = problem.rides[ind1[car][cxpoint1]]\n",
    "            prev_ride = problem.rides[ind1[car][cxpoint1-1]]\n",
    "            steps = problem.steps_for_rides(ind1[car][:cxpoint1])\n",
    "\n",
    "            cxpoint2 = None\n",
    "            for i, r in ((i, r) for i, r in enumerate(ind2[car]) if cxpoint2 is None):\n",
    "                if problem.can_reach(prev_ride[2], prev_ride[3], steps, problem.rides[r]):\n",
    "                    cxpoint2 = i\n",
    "\n",
    "            if cxpoint2:\n",
    "                ind1[car][cxpoint1:], ind2[car][cxpoint2:] = ind2[car][cxpoint2:], ind1[car][cxpoint1:]\n",
    "        \n",
    "    return ind1, ind2"
   ]
  },
  {
   "cell_type": "markdown",
   "metadata": {},
   "source": [
    "## DEAP toolbox"
   ]
  },
  {
   "cell_type": "markdown",
   "metadata": {},
   "source": [
    "### Types"
   ]
  },
  {
   "cell_type": "code",
   "execution_count": 11,
   "metadata": {},
   "outputs": [],
   "source": [
    "creator.create(\"Fitness\", base.Fitness, weights=(1.0,))\n",
    "creator.create(\"Individual\", INDIVIDUAL_TYPE, fitness=creator.Fitness)"
   ]
  },
  {
   "cell_type": "markdown",
   "metadata": {},
   "source": [
    "### Population"
   ]
  },
  {
   "cell_type": "code",
   "execution_count": 12,
   "metadata": {},
   "outputs": [],
   "source": [
    "toolbox = base.Toolbox()\n",
    "toolbox.register(\"individual\", generate, problem=problem)\n",
    "toolbox.register(\"population\", generate_population)\n",
    "# toolbox.register(\"population\", tools.initRepeat, list, toolbox.individual)"
   ]
  },
  {
   "cell_type": "markdown",
   "metadata": {},
   "source": [
    "### Genetic functions"
   ]
  },
  {
   "cell_type": "code",
   "execution_count": 13,
   "metadata": {},
   "outputs": [],
   "source": [
    "toolbox.register(\"evaluate\", evaluate, problem=problem)\n",
    "toolbox.register(\"mate\", crossover_by_starting, problem=problem)\n",
    "toolbox.register(\"mutate\", mutate, problem=problem)\n",
    "toolbox.register(\"select\", tools.selNSGA2)"
   ]
  },
  {
   "cell_type": "markdown",
   "metadata": {},
   "source": [
    "### Multiprocessing"
   ]
  },
  {
   "cell_type": "code",
   "execution_count": 14,
   "metadata": {},
   "outputs": [],
   "source": [
    "pool = multiprocessing.Pool()\n",
    "toolbox.register(\"map\", pool.map)"
   ]
  },
  {
   "cell_type": "markdown",
   "metadata": {},
   "source": [
    "## Solution"
   ]
  },
  {
   "cell_type": "markdown",
   "metadata": {},
   "source": [
    "### Hyperparameters"
   ]
  },
  {
   "cell_type": "code",
   "execution_count": 15,
   "metadata": {},
   "outputs": [],
   "source": [
    "GENERATIONS = 500\n",
    "MU = 10\n",
    "LAMBDA = 20\n",
    "CROSSOVER_PROBABILITY = 0.5\n",
    "MUTATION_PROBABILITY = 0.4"
   ]
  },
  {
   "cell_type": "markdown",
   "metadata": {},
   "source": [
    "### Run the algorithm"
   ]
  },
  {
   "cell_type": "code",
   "execution_count": null,
   "metadata": {},
   "outputs": [],
   "source": [
    "population = toolbox.population(n=MU)\n",
    "\n",
    "hof = tools.HallOfFame(1)\n",
    "\n",
    "stats = tools.Statistics(lambda ind: ind.fitness.values)\n",
    "stats.register(\"avg\", np.mean, axis=0)\n",
    "stats.register(\"std\", np.std, axis=0)\n",
    "stats.register(\"min\", np.min, axis=0)\n",
    "stats.register(\"max\", np.max, axis=0)\n",
    "\n",
    "# population, log = algorithms.eaSimple(population, toolbox, CROSSOVER_PROBABILITY, MUTATION_PROBABILITY, GENERATIONS, stats, halloffame=hof)\n",
    "population, log = algorithms.eaMuPlusLambda(population, toolbox, MU, LAMBDA, CROSSOVER_PROBABILITY, MUTATION_PROBABILITY, GENERATIONS, stats, halloffame=hof)\n",
    "# population, log = algorithms.eaMuCommaLambda(population, toolbox, MU, LAMBDA, CROSSOVER_PROBABILITY, MUTATION_PROBABILITY, GENERATIONS, stats, halloffame=hof)"
   ]
  },
  {
   "cell_type": "markdown",
   "metadata": {},
   "source": [
    "### Best individual"
   ]
  },
  {
   "cell_type": "code",
   "execution_count": null,
   "metadata": {},
   "outputs": [],
   "source": [
    "solution = Solution(data=INDIVIDUAL_TYPE(hof[0]))\n",
    "print(f'Best individual fitness: {int(hof[0].fitness.wvalues[0])}/{problem.max_bound}')\n",
    "# print(str(solution))"
   ]
  },
  {
   "cell_type": "markdown",
   "metadata": {},
   "source": [
    "### Plot evolution"
   ]
  },
  {
   "cell_type": "code",
   "execution_count": null,
   "metadata": {},
   "outputs": [],
   "source": [
    "gen, avg, min_, max_ = log.select(\"gen\", \"avg\", \"min\", \"max\")\n",
    "plt.plot(gen, avg, label=\"avg\")\n",
    "plt.plot(gen, min_, label=\"min\")\n",
    "plt.plot(gen, max_, label=\"max\")\n",
    "plt.xlabel(\"Generation\")\n",
    "plt.ylabel(\"Fitness\")\n",
    "plt.legend(loc=\"lower right\")\n",
    "plt.show()"
   ]
  },
  {
   "cell_type": "code",
   "execution_count": null,
   "metadata": {},
   "outputs": [],
   "source": [
    "#solution.to_file('output/a.txt')\n",
    "solution.to_file('output/b.txt')\n",
    "#solution.to_file('output/c.txt')\n",
    "#solution.to_file('output/d.txt')\n",
    "#solution.to_file('output/e.txt')"
   ]
  }
 ],
 "metadata": {
  "kernelspec": {
   "display_name": "Python 3",
   "language": "python",
   "name": "python3"
  },
  "language_info": {
   "codemirror_mode": {
    "name": "ipython",
    "version": 3
   },
   "file_extension": ".py",
   "mimetype": "text/x-python",
   "name": "python",
   "nbconvert_exporter": "python",
   "pygments_lexer": "ipython3",
   "version": "3.6.4"
  }
 },
 "nbformat": 4,
 "nbformat_minor": 2
}
